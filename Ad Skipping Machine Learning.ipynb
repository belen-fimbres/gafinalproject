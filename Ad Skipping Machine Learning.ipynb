{
 "cells": [
  {
   "cell_type": "markdown",
   "metadata": {},
   "source": [
    "# Introduction"
   ]
  },
  {
   "cell_type": "markdown",
   "metadata": {},
   "source": [
    "In this project, I'm seeking if a model can correctly predict if a user will skip an ad in an app experience when given the option. The majority of the data used in this model is pulled from a survey given to users before and after interacting with the content. Whether a respondent skipped or not was provided from a separate source which monitored each user's activity while using the app. In the experience, each respondent was exposed to up to 6 ads total and were guaranteed to see 4.\n",
    "\n",
    "Overall the main purpose of this project is to conduct an exploratory exercise in working with survey data to inform a model. I also used the results to fill in missing data for a small subset of the data where survey data was available but was missing the skip data, so there is possibly a broader business case in using machine learning to help fill in missing data."
   ]
  },
  {
   "cell_type": "code",
   "execution_count": 508,
   "metadata": {},
   "outputs": [
    {
     "name": "stdout",
     "output_type": "stream",
     "text": [
      "scipy: 0.19.0\n",
      "numpy: 1.12.1\n",
      "matplotlib: 2.0.2\n",
      "pandas: 0.20.1\n",
      "sklearn: 0.18.1\n"
     ]
    }
   ],
   "source": [
    "# binary classification\n",
    "import scipy\n",
    "print('scipy: {}'.format(scipy.__version__)) # numpy\n",
    "import numpy as np\n",
    "print('numpy: {}'.format(np.__version__))\n",
    "# matplotlib\n",
    "import matplotlib \n",
    "import matplotlib.pyplot as plt\n",
    "print('matplotlib: {}'.format(matplotlib.__version__)) # pandas\n",
    "import pandas as pd\n",
    "print('pandas: {}'.format(pd.__version__))\n",
    "# scikit-learn\n",
    "import sklearn\n",
    "print('sklearn: {}'.format(sklearn.__version__))\n",
    "\n",
    "import datetime\n",
    "#import xgboost as xgb\n",
    "from sklearn.metrics import accuracy_score\n",
    "from sklearn.preprocessing import LabelEncoder\n",
    "from sklearn.preprocessing import OneHotEncoder\n",
    "from sklearn.preprocessing import Imputer\n",
    "from sklearn.cross_validation import train_test_split\n",
    "from sklearn.feature_selection import RFE\n",
    "from sklearn.feature_selection import SelectKBest\n",
    "from sklearn.feature_selection import chi2\n",
    "from sklearn.decomposition import PCA\n",
    "from sklearn.linear_model import Ridge, RidgeCV, ElasticNet, LassoCV, LassoLarsCV\n",
    "from sklearn.linear_model import LogisticRegression\n",
    "from sklearn.discriminant_analysis import LinearDiscriminantAnalysis\n",
    "from sklearn.naive_bayes import GaussianNB\n",
    "from sklearn.ensemble import VotingClassifier\n",
    "from sklearn.metrics import classification_report\n",
    "import seaborn as sns\n",
    "import warnings\n",
    "warnings.filterwarnings('ignore')\n",
    "%matplotlib inline"
   ]
  },
  {
   "cell_type": "markdown",
   "metadata": {},
   "source": [
    "## Exploratory Data Analysis"
   ]
  },
  {
   "cell_type": "code",
   "execution_count": 509,
   "metadata": {
    "collapsed": true
   },
   "outputs": [],
   "source": [
    "train_x = pd.read_excel(\"../belen/data.xlsx\", sheetname='train_x')\n",
    "train_y = pd.read_excel(\"../belen/data.xlsx\", sheetname='train_y')\n",
    "test_x = pd.read_excel(\"../belen/data.xlsx\", sheetname='test_x')\n",
    "test_y = pd.read_excel(\"../belen/data.xlsx\", sheetname='test_y')\n",
    "data_dictionary = pd.read_excel(\"../belen/skip_data_dictionary.xlsx\")"
   ]
  },
  {
   "cell_type": "code",
   "execution_count": 510,
   "metadata": {},
   "outputs": [
    {
     "data": {
      "text/html": [
       "<div>\n",
       "<style>\n",
       "    .dataframe thead tr:only-child th {\n",
       "        text-align: right;\n",
       "    }\n",
       "\n",
       "    .dataframe thead th {\n",
       "        text-align: left;\n",
       "    }\n",
       "\n",
       "    .dataframe tbody tr th {\n",
       "        vertical-align: top;\n",
       "    }\n",
       "</style>\n",
       "<table border=\"1\" class=\"dataframe\">\n",
       "  <thead>\n",
       "    <tr style=\"text-align: right;\">\n",
       "      <th></th>\n",
       "      <th>label</th>\n",
       "      <th>question</th>\n",
       "      <th>Unnamed: 2</th>\n",
       "      <th>Unnamed: 3</th>\n",
       "      <th>Unnamed: 4</th>\n",
       "      <th>Unnamed: 5</th>\n",
       "      <th>Unnamed: 6</th>\n",
       "    </tr>\n",
       "  </thead>\n",
       "  <tbody>\n",
       "    <tr>\n",
       "      <th>0</th>\n",
       "      <td>duration_seconds</td>\n",
       "      <td>Duration (in seconds)</td>\n",
       "      <td>NaN</td>\n",
       "      <td>NaN</td>\n",
       "      <td>NaN</td>\n",
       "      <td>NaN</td>\n",
       "      <td>NaN</td>\n",
       "    </tr>\n",
       "    <tr>\n",
       "      <th>1</th>\n",
       "      <td>date_recorded</td>\n",
       "      <td>Recorded Date</td>\n",
       "      <td>NaN</td>\n",
       "      <td>NaN</td>\n",
       "      <td>NaN</td>\n",
       "      <td>NaN</td>\n",
       "      <td>NaN</td>\n",
       "    </tr>\n",
       "    <tr>\n",
       "      <th>2</th>\n",
       "      <td>user_language</td>\n",
       "      <td>User Language</td>\n",
       "      <td>NaN</td>\n",
       "      <td>NaN</td>\n",
       "      <td>NaN</td>\n",
       "      <td>NaN</td>\n",
       "      <td>NaN</td>\n",
       "    </tr>\n",
       "    <tr>\n",
       "      <th>3</th>\n",
       "      <td>cell</td>\n",
       "      <td>Survey Cell</td>\n",
       "      <td>NaN</td>\n",
       "      <td>NaN</td>\n",
       "      <td>NaN</td>\n",
       "      <td>NaN</td>\n",
       "      <td>NaN</td>\n",
       "    </tr>\n",
       "    <tr>\n",
       "      <th>4</th>\n",
       "      <td>gender</td>\n",
       "      <td>What is your gender?</td>\n",
       "      <td>1=male</td>\n",
       "      <td>2=female</td>\n",
       "      <td>NaN</td>\n",
       "      <td>NaN</td>\n",
       "      <td>NaN</td>\n",
       "    </tr>\n",
       "    <tr>\n",
       "      <th>5</th>\n",
       "      <td>age</td>\n",
       "      <td>What is your current age?</td>\n",
       "      <td>NaN</td>\n",
       "      <td>NaN</td>\n",
       "      <td>NaN</td>\n",
       "      <td>NaN</td>\n",
       "      <td>NaN</td>\n",
       "    </tr>\n",
       "    <tr>\n",
       "      <th>6</th>\n",
       "      <td>content_usage_music</td>\n",
       "      <td>How often do you do the following on your comp...</td>\n",
       "      <td>5=daily</td>\n",
       "      <td>4=few times a week</td>\n",
       "      <td>3=few times a month</td>\n",
       "      <td>2=once a month</td>\n",
       "      <td>1=never</td>\n",
       "    </tr>\n",
       "    <tr>\n",
       "      <th>7</th>\n",
       "      <td>content_usage_video</td>\n",
       "      <td>How often do you do the following on your comp...</td>\n",
       "      <td>5=daily</td>\n",
       "      <td>4=few times a week</td>\n",
       "      <td>3=few times a month</td>\n",
       "      <td>2=once a month</td>\n",
       "      <td>1=never</td>\n",
       "    </tr>\n",
       "    <tr>\n",
       "      <th>8</th>\n",
       "      <td>content_usage_movies_tv</td>\n",
       "      <td>How often do you do the following on your comp...</td>\n",
       "      <td>5=daily</td>\n",
       "      <td>4=few times a week</td>\n",
       "      <td>3=few times a month</td>\n",
       "      <td>2=once a month</td>\n",
       "      <td>1=never</td>\n",
       "    </tr>\n",
       "    <tr>\n",
       "      <th>9</th>\n",
       "      <td>content_usage_podcast</td>\n",
       "      <td>How often do you do the following on your comp...</td>\n",
       "      <td>5=daily</td>\n",
       "      <td>4=few times a week</td>\n",
       "      <td>3=few times a month</td>\n",
       "      <td>2=once a month</td>\n",
       "      <td>1=never</td>\n",
       "    </tr>\n",
       "    <tr>\n",
       "      <th>10</th>\n",
       "      <td>user_history_app</td>\n",
       "      <td>Approximately how long have you been using thi...</td>\n",
       "      <td>4=1.5 years or more</td>\n",
       "      <td>3=12 months to 1.5 years</td>\n",
       "      <td>2= 6 to 12 months</td>\n",
       "      <td>1= less than 6 months</td>\n",
       "      <td>0=never</td>\n",
       "    </tr>\n",
       "    <tr>\n",
       "      <th>11</th>\n",
       "      <td>overall_exp_rating</td>\n",
       "      <td>How would you rate this app experience overall?</td>\n",
       "      <td>1=excellent</td>\n",
       "      <td>2=very good</td>\n",
       "      <td>3=good</td>\n",
       "      <td>4=fair</td>\n",
       "      <td>5=poor</td>\n",
       "    </tr>\n",
       "    <tr>\n",
       "      <th>12</th>\n",
       "      <td>app_usage_intent</td>\n",
       "      <td>How likely are you to use this app again in th...</td>\n",
       "      <td>1=very likely</td>\n",
       "      <td>2=somewhat likely</td>\n",
       "      <td>3=neutral</td>\n",
       "      <td>4=somewhat unlikely</td>\n",
       "      <td>5=very unlikely</td>\n",
       "    </tr>\n",
       "    <tr>\n",
       "      <th>13</th>\n",
       "      <td>recall_num_ads</td>\n",
       "      <td>How many ads do you think you were served duri...</td>\n",
       "      <td>NaN</td>\n",
       "      <td>NaN</td>\n",
       "      <td>NaN</td>\n",
       "      <td>NaN</td>\n",
       "      <td>NaN</td>\n",
       "    </tr>\n",
       "    <tr>\n",
       "      <th>14</th>\n",
       "      <td>exp_app_percep</td>\n",
       "      <td>Thinking specifically about the ads you saw an...</td>\n",
       "      <td>1=better</td>\n",
       "      <td>2=same</td>\n",
       "      <td>3=worse</td>\n",
       "      <td>NaN</td>\n",
       "      <td>NaN</td>\n",
       "    </tr>\n",
       "    <tr>\n",
       "      <th>15</th>\n",
       "      <td>ad_attributes_relevant</td>\n",
       "      <td>To what extent do you agree or disagree that t...</td>\n",
       "      <td>5=strongly agree</td>\n",
       "      <td>4=somewhat agree</td>\n",
       "      <td>3=neutral</td>\n",
       "      <td>2=somewhat disagree</td>\n",
       "      <td>1=strongly disagree</td>\n",
       "    </tr>\n",
       "    <tr>\n",
       "      <th>16</th>\n",
       "      <td>ad_attributes_intrusive</td>\n",
       "      <td>To what extent do you agree or disagree that t...</td>\n",
       "      <td>5=strongly agree</td>\n",
       "      <td>4=somewhat agree</td>\n",
       "      <td>3=neutral</td>\n",
       "      <td>2=somewhat disagree</td>\n",
       "      <td>1=strongly disagree</td>\n",
       "    </tr>\n",
       "    <tr>\n",
       "      <th>17</th>\n",
       "      <td>profile_goods_1</td>\n",
       "      <td>I'm the first in my peer group to try new good...</td>\n",
       "      <td>5=strongly agree</td>\n",
       "      <td>4=somewhat agree</td>\n",
       "      <td>3=neutral</td>\n",
       "      <td>2=somewhat disagree</td>\n",
       "      <td>1=strongly disagree</td>\n",
       "    </tr>\n",
       "    <tr>\n",
       "      <th>18</th>\n",
       "      <td>profile_goods_2</td>\n",
       "      <td>I prefer to wait until others are using a prod...</td>\n",
       "      <td>5=strongly agree</td>\n",
       "      <td>4=somewhat agree</td>\n",
       "      <td>3=neutral</td>\n",
       "      <td>2=somewhat disagree</td>\n",
       "      <td>1=strongly disagree</td>\n",
       "    </tr>\n",
       "    <tr>\n",
       "      <th>19</th>\n",
       "      <td>profile_ads_1</td>\n",
       "      <td>I never pay attention to ads and work to avoid...</td>\n",
       "      <td>5=strongly agree</td>\n",
       "      <td>4=somewhat agree</td>\n",
       "      <td>3=neutral</td>\n",
       "      <td>2=somewhat disagree</td>\n",
       "      <td>1=strongly disagree</td>\n",
       "    </tr>\n",
       "    <tr>\n",
       "      <th>20</th>\n",
       "      <td>profile_ads_2</td>\n",
       "      <td>Advertising is how I learn about most new prod...</td>\n",
       "      <td>5=strongly agree</td>\n",
       "      <td>4=somewhat agree</td>\n",
       "      <td>3=neutral</td>\n",
       "      <td>2=somewhat disagree</td>\n",
       "      <td>1=strongly disagree</td>\n",
       "    </tr>\n",
       "    <tr>\n",
       "      <th>21</th>\n",
       "      <td>marital</td>\n",
       "      <td>Which of the following best describes your\\nma...</td>\n",
       "      <td>NaN</td>\n",
       "      <td>NaN</td>\n",
       "      <td>NaN</td>\n",
       "      <td>NaN</td>\n",
       "      <td>NaN</td>\n",
       "    </tr>\n",
       "    <tr>\n",
       "      <th>22</th>\n",
       "      <td>kids</td>\n",
       "      <td>Are\\nyou the parent of a child(ren) under the ...</td>\n",
       "      <td>1=yes</td>\n",
       "      <td>0=no</td>\n",
       "      <td>NaN</td>\n",
       "      <td>NaN</td>\n",
       "      <td>NaN</td>\n",
       "    </tr>\n",
       "    <tr>\n",
       "      <th>23</th>\n",
       "      <td>education</td>\n",
       "      <td>Which of the following best describes your\\ned...</td>\n",
       "      <td>NaN</td>\n",
       "      <td>NaN</td>\n",
       "      <td>NaN</td>\n",
       "      <td>NaN</td>\n",
       "      <td>NaN</td>\n",
       "    </tr>\n",
       "    <tr>\n",
       "      <th>24</th>\n",
       "      <td>student</td>\n",
       "      <td>Are\\nyou currently enrolled as a student at a ...</td>\n",
       "      <td>1=yes</td>\n",
       "      <td>0=no</td>\n",
       "      <td>NaN</td>\n",
       "      <td>NaN</td>\n",
       "      <td>NaN</td>\n",
       "    </tr>\n",
       "    <tr>\n",
       "      <th>25</th>\n",
       "      <td>employment</td>\n",
       "      <td>Which of the following best describes your\\nem...</td>\n",
       "      <td>NaN</td>\n",
       "      <td>NaN</td>\n",
       "      <td>NaN</td>\n",
       "      <td>NaN</td>\n",
       "      <td>NaN</td>\n",
       "    </tr>\n",
       "    <tr>\n",
       "      <th>26</th>\n",
       "      <td>income</td>\n",
       "      <td>Which of the following best represents\\nyour a...</td>\n",
       "      <td>NaN</td>\n",
       "      <td>NaN</td>\n",
       "      <td>NaN</td>\n",
       "      <td>NaN</td>\n",
       "      <td>NaN</td>\n",
       "    </tr>\n",
       "    <tr>\n",
       "      <th>27</th>\n",
       "      <td>altRID</td>\n",
       "      <td>altRID</td>\n",
       "      <td>NaN</td>\n",
       "      <td>NaN</td>\n",
       "      <td>NaN</td>\n",
       "      <td>NaN</td>\n",
       "      <td>NaN</td>\n",
       "    </tr>\n",
       "  </tbody>\n",
       "</table>\n",
       "</div>"
      ],
      "text/plain": [
       "                      label                                           question  \\\n",
       "0          duration_seconds                              Duration (in seconds)   \n",
       "1             date_recorded                                      Recorded Date   \n",
       "2             user_language                                      User Language   \n",
       "3                      cell                                        Survey Cell   \n",
       "4                    gender                               What is your gender?   \n",
       "5                       age                          What is your current age?   \n",
       "6       content_usage_music  How often do you do the following on your comp...   \n",
       "7       content_usage_video  How often do you do the following on your comp...   \n",
       "8   content_usage_movies_tv  How often do you do the following on your comp...   \n",
       "9     content_usage_podcast  How often do you do the following on your comp...   \n",
       "10         user_history_app  Approximately how long have you been using thi...   \n",
       "11       overall_exp_rating    How would you rate this app experience overall?   \n",
       "12         app_usage_intent  How likely are you to use this app again in th...   \n",
       "13           recall_num_ads  How many ads do you think you were served duri...   \n",
       "14           exp_app_percep  Thinking specifically about the ads you saw an...   \n",
       "15   ad_attributes_relevant  To what extent do you agree or disagree that t...   \n",
       "16  ad_attributes_intrusive  To what extent do you agree or disagree that t...   \n",
       "17          profile_goods_1  I'm the first in my peer group to try new good...   \n",
       "18          profile_goods_2  I prefer to wait until others are using a prod...   \n",
       "19            profile_ads_1  I never pay attention to ads and work to avoid...   \n",
       "20            profile_ads_2  Advertising is how I learn about most new prod...   \n",
       "21                  marital  Which of the following best describes your\\nma...   \n",
       "22                     kids  Are\\nyou the parent of a child(ren) under the ...   \n",
       "23                education  Which of the following best describes your\\ned...   \n",
       "24                  student  Are\\nyou currently enrolled as a student at a ...   \n",
       "25               employment  Which of the following best describes your\\nem...   \n",
       "26                   income  Which of the following best represents\\nyour a...   \n",
       "27                   altRID                                             altRID   \n",
       "\n",
       "             Unnamed: 2                Unnamed: 3           Unnamed: 4             Unnamed: 5  \\\n",
       "0                   NaN                       NaN                  NaN                    NaN   \n",
       "1                   NaN                       NaN                  NaN                    NaN   \n",
       "2                   NaN                       NaN                  NaN                    NaN   \n",
       "3                   NaN                       NaN                  NaN                    NaN   \n",
       "4                1=male                  2=female                  NaN                    NaN   \n",
       "5                   NaN                       NaN                  NaN                    NaN   \n",
       "6               5=daily        4=few times a week  3=few times a month         2=once a month   \n",
       "7               5=daily        4=few times a week  3=few times a month         2=once a month   \n",
       "8               5=daily        4=few times a week  3=few times a month         2=once a month   \n",
       "9               5=daily        4=few times a week  3=few times a month         2=once a month   \n",
       "10  4=1.5 years or more  3=12 months to 1.5 years    2= 6 to 12 months  1= less than 6 months   \n",
       "11          1=excellent               2=very good               3=good                 4=fair   \n",
       "12        1=very likely         2=somewhat likely            3=neutral    4=somewhat unlikely   \n",
       "13                  NaN                       NaN                  NaN                    NaN   \n",
       "14             1=better                    2=same              3=worse                    NaN   \n",
       "15     5=strongly agree          4=somewhat agree            3=neutral    2=somewhat disagree   \n",
       "16     5=strongly agree          4=somewhat agree            3=neutral    2=somewhat disagree   \n",
       "17     5=strongly agree          4=somewhat agree            3=neutral    2=somewhat disagree   \n",
       "18     5=strongly agree          4=somewhat agree            3=neutral    2=somewhat disagree   \n",
       "19     5=strongly agree          4=somewhat agree            3=neutral    2=somewhat disagree   \n",
       "20     5=strongly agree          4=somewhat agree            3=neutral    2=somewhat disagree   \n",
       "21                  NaN                       NaN                  NaN                    NaN   \n",
       "22                1=yes                      0=no                  NaN                    NaN   \n",
       "23                  NaN                       NaN                  NaN                    NaN   \n",
       "24                1=yes                      0=no                  NaN                    NaN   \n",
       "25                  NaN                       NaN                  NaN                    NaN   \n",
       "26                  NaN                       NaN                  NaN                    NaN   \n",
       "27                  NaN                       NaN                  NaN                    NaN   \n",
       "\n",
       "             Unnamed: 6  \n",
       "0                   NaN  \n",
       "1                   NaN  \n",
       "2                   NaN  \n",
       "3                   NaN  \n",
       "4                   NaN  \n",
       "5                   NaN  \n",
       "6               1=never  \n",
       "7               1=never  \n",
       "8               1=never  \n",
       "9               1=never  \n",
       "10              0=never  \n",
       "11               5=poor  \n",
       "12      5=very unlikely  \n",
       "13                  NaN  \n",
       "14                  NaN  \n",
       "15  1=strongly disagree  \n",
       "16  1=strongly disagree  \n",
       "17  1=strongly disagree  \n",
       "18  1=strongly disagree  \n",
       "19  1=strongly disagree  \n",
       "20  1=strongly disagree  \n",
       "21                  NaN  \n",
       "22                  NaN  \n",
       "23                  NaN  \n",
       "24                  NaN  \n",
       "25                  NaN  \n",
       "26                  NaN  \n",
       "27                  NaN  "
      ]
     },
     "execution_count": 510,
     "metadata": {},
     "output_type": "execute_result"
    }
   ],
   "source": [
    "data_dictionary"
   ]
  },
  {
   "cell_type": "code",
   "execution_count": 511,
   "metadata": {},
   "outputs": [
    {
     "data": {
      "text/html": [
       "<div>\n",
       "<style>\n",
       "    .dataframe thead tr:only-child th {\n",
       "        text-align: right;\n",
       "    }\n",
       "\n",
       "    .dataframe thead th {\n",
       "        text-align: left;\n",
       "    }\n",
       "\n",
       "    .dataframe tbody tr th {\n",
       "        vertical-align: top;\n",
       "    }\n",
       "</style>\n",
       "<table border=\"1\" class=\"dataframe\">\n",
       "  <thead>\n",
       "    <tr style=\"text-align: right;\">\n",
       "      <th></th>\n",
       "      <th>duration_seconds</th>\n",
       "      <th>date_recorded</th>\n",
       "      <th>user_language</th>\n",
       "      <th>cell</th>\n",
       "      <th>gender</th>\n",
       "      <th>age</th>\n",
       "      <th>content_usage_music</th>\n",
       "      <th>content_usage_video</th>\n",
       "      <th>content_usage_movies_tv</th>\n",
       "      <th>content_usage_podcast</th>\n",
       "      <th>...</th>\n",
       "      <th>profile_goods_2</th>\n",
       "      <th>profile_ads_1</th>\n",
       "      <th>profile_ads_2</th>\n",
       "      <th>marital</th>\n",
       "      <th>kids</th>\n",
       "      <th>education</th>\n",
       "      <th>student</th>\n",
       "      <th>employment</th>\n",
       "      <th>income</th>\n",
       "      <th>altRID</th>\n",
       "    </tr>\n",
       "  </thead>\n",
       "  <tbody>\n",
       "    <tr>\n",
       "      <th>0</th>\n",
       "      <td>22937</td>\n",
       "      <td>2017-10-27 16:56:00</td>\n",
       "      <td>EN</td>\n",
       "      <td>1</td>\n",
       "      <td>2</td>\n",
       "      <td>47</td>\n",
       "      <td>4</td>\n",
       "      <td>4</td>\n",
       "      <td>4</td>\n",
       "      <td>1</td>\n",
       "      <td>...</td>\n",
       "      <td>4</td>\n",
       "      <td>3</td>\n",
       "      <td>4</td>\n",
       "      <td>2</td>\n",
       "      <td>1</td>\n",
       "      <td>4</td>\n",
       "      <td>0</td>\n",
       "      <td>1</td>\n",
       "      <td>8</td>\n",
       "      <td>SAFUMO</td>\n",
       "    </tr>\n",
       "    <tr>\n",
       "      <th>1</th>\n",
       "      <td>1662</td>\n",
       "      <td>2017-10-27 17:25:00</td>\n",
       "      <td>EN</td>\n",
       "      <td>1</td>\n",
       "      <td>1</td>\n",
       "      <td>24</td>\n",
       "      <td>5</td>\n",
       "      <td>5</td>\n",
       "      <td>5</td>\n",
       "      <td>5</td>\n",
       "      <td>...</td>\n",
       "      <td>5</td>\n",
       "      <td>5</td>\n",
       "      <td>1</td>\n",
       "      <td>1</td>\n",
       "      <td>0</td>\n",
       "      <td>4</td>\n",
       "      <td>0</td>\n",
       "      <td>1</td>\n",
       "      <td>2</td>\n",
       "      <td>LXGYDY</td>\n",
       "    </tr>\n",
       "    <tr>\n",
       "      <th>2</th>\n",
       "      <td>24427</td>\n",
       "      <td>2017-10-27 17:26:00</td>\n",
       "      <td>EN</td>\n",
       "      <td>1</td>\n",
       "      <td>2</td>\n",
       "      <td>24</td>\n",
       "      <td>5</td>\n",
       "      <td>3</td>\n",
       "      <td>4</td>\n",
       "      <td>1</td>\n",
       "      <td>...</td>\n",
       "      <td>2</td>\n",
       "      <td>4</td>\n",
       "      <td>2</td>\n",
       "      <td>1</td>\n",
       "      <td>0</td>\n",
       "      <td>5</td>\n",
       "      <td>1</td>\n",
       "      <td>1</td>\n",
       "      <td>2</td>\n",
       "      <td>FORCCF</td>\n",
       "    </tr>\n",
       "    <tr>\n",
       "      <th>3</th>\n",
       "      <td>7113</td>\n",
       "      <td>2017-10-27 19:26:00</td>\n",
       "      <td>EN</td>\n",
       "      <td>1</td>\n",
       "      <td>2</td>\n",
       "      <td>25</td>\n",
       "      <td>5</td>\n",
       "      <td>5</td>\n",
       "      <td>5</td>\n",
       "      <td>4</td>\n",
       "      <td>...</td>\n",
       "      <td>1</td>\n",
       "      <td>3</td>\n",
       "      <td>5</td>\n",
       "      <td>2</td>\n",
       "      <td>1</td>\n",
       "      <td>5</td>\n",
       "      <td>1</td>\n",
       "      <td>1</td>\n",
       "      <td>5</td>\n",
       "      <td>ZBWEDR</td>\n",
       "    </tr>\n",
       "    <tr>\n",
       "      <th>4</th>\n",
       "      <td>2203</td>\n",
       "      <td>2017-10-27 20:04:00</td>\n",
       "      <td>EN</td>\n",
       "      <td>1</td>\n",
       "      <td>2</td>\n",
       "      <td>46</td>\n",
       "      <td>4</td>\n",
       "      <td>4</td>\n",
       "      <td>3</td>\n",
       "      <td>1</td>\n",
       "      <td>...</td>\n",
       "      <td>2</td>\n",
       "      <td>5</td>\n",
       "      <td>4</td>\n",
       "      <td>1</td>\n",
       "      <td>0</td>\n",
       "      <td>5</td>\n",
       "      <td>0</td>\n",
       "      <td>1</td>\n",
       "      <td>5</td>\n",
       "      <td>AIVXBW</td>\n",
       "    </tr>\n",
       "  </tbody>\n",
       "</table>\n",
       "<p>5 rows × 28 columns</p>\n",
       "</div>"
      ],
      "text/plain": [
       "   duration_seconds       date_recorded user_language  cell  gender  age  content_usage_music  \\\n",
       "0             22937 2017-10-27 16:56:00            EN     1       2   47                    4   \n",
       "1              1662 2017-10-27 17:25:00            EN     1       1   24                    5   \n",
       "2             24427 2017-10-27 17:26:00            EN     1       2   24                    5   \n",
       "3              7113 2017-10-27 19:26:00            EN     1       2   25                    5   \n",
       "4              2203 2017-10-27 20:04:00            EN     1       2   46                    4   \n",
       "\n",
       "   content_usage_video  content_usage_movies_tv  content_usage_podcast   ...    profile_goods_2  \\\n",
       "0                    4                        4                      1   ...                  4   \n",
       "1                    5                        5                      5   ...                  5   \n",
       "2                    3                        4                      1   ...                  2   \n",
       "3                    5                        5                      4   ...                  1   \n",
       "4                    4                        3                      1   ...                  2   \n",
       "\n",
       "   profile_ads_1  profile_ads_2  marital  kids  education  student  employment  income  altRID  \n",
       "0              3              4        2     1          4        0           1       8  SAFUMO  \n",
       "1              5              1        1     0          4        0           1       2  LXGYDY  \n",
       "2              4              2        1     0          5        1           1       2  FORCCF  \n",
       "3              3              5        2     1          5        1           1       5  ZBWEDR  \n",
       "4              5              4        1     0          5        0           1       5  AIVXBW  \n",
       "\n",
       "[5 rows x 28 columns]"
      ]
     },
     "execution_count": 511,
     "metadata": {},
     "output_type": "execute_result"
    }
   ],
   "source": [
    "train_x.head()"
   ]
  },
  {
   "cell_type": "code",
   "execution_count": 512,
   "metadata": {},
   "outputs": [
    {
     "data": {
      "text/html": [
       "<div>\n",
       "<style>\n",
       "    .dataframe thead tr:only-child th {\n",
       "        text-align: right;\n",
       "    }\n",
       "\n",
       "    .dataframe thead th {\n",
       "        text-align: left;\n",
       "    }\n",
       "\n",
       "    .dataframe tbody tr th {\n",
       "        vertical-align: top;\n",
       "    }\n",
       "</style>\n",
       "<table border=\"1\" class=\"dataframe\">\n",
       "  <thead>\n",
       "    <tr style=\"text-align: right;\">\n",
       "      <th></th>\n",
       "      <th>altRID</th>\n",
       "      <th>skipped</th>\n",
       "    </tr>\n",
       "  </thead>\n",
       "  <tbody>\n",
       "    <tr>\n",
       "      <th>0</th>\n",
       "      <td>SAFUMO</td>\n",
       "      <td>0</td>\n",
       "    </tr>\n",
       "    <tr>\n",
       "      <th>1</th>\n",
       "      <td>LXGYDY</td>\n",
       "      <td>1</td>\n",
       "    </tr>\n",
       "    <tr>\n",
       "      <th>2</th>\n",
       "      <td>FORCCF</td>\n",
       "      <td>1</td>\n",
       "    </tr>\n",
       "    <tr>\n",
       "      <th>3</th>\n",
       "      <td>ZBWEDR</td>\n",
       "      <td>1</td>\n",
       "    </tr>\n",
       "    <tr>\n",
       "      <th>4</th>\n",
       "      <td>AIVXBW</td>\n",
       "      <td>1</td>\n",
       "    </tr>\n",
       "  </tbody>\n",
       "</table>\n",
       "</div>"
      ],
      "text/plain": [
       "   altRID  skipped\n",
       "0  SAFUMO        0\n",
       "1  LXGYDY        1\n",
       "2  FORCCF        1\n",
       "3  ZBWEDR        1\n",
       "4  AIVXBW        1"
      ]
     },
     "execution_count": 512,
     "metadata": {},
     "output_type": "execute_result"
    }
   ],
   "source": [
    "train_y.head()"
   ]
  },
  {
   "cell_type": "code",
   "execution_count": 513,
   "metadata": {},
   "outputs": [
    {
     "data": {
      "text/plain": [
       "True"
      ]
     },
     "execution_count": 513,
     "metadata": {},
     "output_type": "execute_result"
    }
   ],
   "source": [
    "pd.Series.equals(train_x.altRID, train_y.altRID)"
   ]
  },
  {
   "cell_type": "code",
   "execution_count": 514,
   "metadata": {},
   "outputs": [
    {
     "data": {
      "text/plain": [
       "duration_seconds                    int64\n",
       "date_recorded              datetime64[ns]\n",
       "user_language                      object\n",
       "cell                                int64\n",
       "gender                              int64\n",
       "age                                 int64\n",
       "content_usage_music                 int64\n",
       "content_usage_video                 int64\n",
       "content_usage_movies_tv             int64\n",
       "content_usage_podcast               int64\n",
       "user_history_app                    int64\n",
       "overall_exp_rating                  int64\n",
       "app_usage_intent                    int64\n",
       "recall_num_ads                      int64\n",
       "exp_app_percep                      int64\n",
       "ad_attributes_relevant              int64\n",
       "ad_attributes_intrusive             int64\n",
       "profile_goods_1                     int64\n",
       "profile_goods_2                     int64\n",
       "profile_ads_1                       int64\n",
       "profile_ads_2                       int64\n",
       "marital                             int64\n",
       "kids                                int64\n",
       "education                           int64\n",
       "student                             int64\n",
       "employment                          int64\n",
       "income                              int64\n",
       "altRID                             object\n",
       "dtype: object"
      ]
     },
     "execution_count": 514,
     "metadata": {},
     "output_type": "execute_result"
    }
   ],
   "source": [
    "train_x.dtypes"
   ]
  },
  {
   "cell_type": "code",
   "execution_count": 515,
   "metadata": {},
   "outputs": [
    {
     "name": "stdout",
     "output_type": "stream",
     "text": [
      "train_x.shape (165, 28)  train_y.shape (165, 2)\n"
     ]
    }
   ],
   "source": [
    "print(\"train_x.shape {0}  train_y.shape {1}\".format(train_x.shape, train_y.shape))"
   ]
  },
  {
   "cell_type": "code",
   "execution_count": 516,
   "metadata": {},
   "outputs": [
    {
     "name": "stdout",
     "output_type": "stream",
     "text": [
      "test_x.shape (41, 28)  test_y.shape (41, 2)\n"
     ]
    }
   ],
   "source": [
    "print(\"test_x.shape {0}  test_y.shape {1}\".format(test_x.shape, test_y.shape))"
   ]
  },
  {
   "cell_type": "code",
   "execution_count": 517,
   "metadata": {},
   "outputs": [
    {
     "data": {
      "text/plain": [
       "EN    165\n",
       "Name: user_language, dtype: int64"
      ]
     },
     "execution_count": 517,
     "metadata": {},
     "output_type": "execute_result"
    }
   ],
   "source": [
    "# drop redundant info which doesn't contain any variability\n",
    "train_x.user_language.value_counts()"
   ]
  },
  {
   "cell_type": "code",
   "execution_count": 518,
   "metadata": {},
   "outputs": [
    {
     "data": {
      "text/plain": [
       "EN    41\n",
       "Name: user_language, dtype: int64"
      ]
     },
     "execution_count": 518,
     "metadata": {},
     "output_type": "execute_result"
    }
   ],
   "source": [
    "test_x.user_language.value_counts()"
   ]
  },
  {
   "cell_type": "code",
   "execution_count": 519,
   "metadata": {},
   "outputs": [
    {
     "name": "stdout",
     "output_type": "stream",
     "text": [
      "train_x.shape (165, 28) test_x.shape (41, 28)\n"
     ]
    }
   ],
   "source": [
    "print(\"train_x.shape {0} test_x.shape {1}\".format(train_x.shape, test_x.shape))"
   ]
  },
  {
   "cell_type": "code",
   "execution_count": 520,
   "metadata": {
    "collapsed": true
   },
   "outputs": [],
   "source": [
    "# drop non-predictive features, we'll need altRID later to generate target scores\n",
    "train_x.drop(['date_recorded', 'user_language', 'cell', 'student', 'marital' , 'overall_exp_rating' , 'exp_app_percep' , 'ad_attributes_relevant' , 'ad_attributes_intrusive' , 'kids' , 'altRID'], axis=1, inplace=True)\n",
    "test_x.drop(['date_recorded', 'user_language', 'cell', 'student', 'marital', 'overall_exp_rating' , 'exp_app_percep' , 'ad_attributes_relevant' , 'ad_attributes_intrusive' , 'kids' , 'altRID'], axis=1, inplace=True)"
   ]
  },
  {
   "cell_type": "code",
   "execution_count": 521,
   "metadata": {},
   "outputs": [
    {
     "name": "stdout",
     "output_type": "stream",
     "text": [
      "train_x.shape (165, 17) test_x.shape (41, 17)\n"
     ]
    }
   ],
   "source": [
    "print(\"train_x.shape {0} test_x.shape {1}\".format(train_x.shape, test_x.shape))"
   ]
  },
  {
   "cell_type": "code",
   "execution_count": 522,
   "metadata": {},
   "outputs": [
    {
     "name": "stdout",
     "output_type": "stream",
     "text": [
      "       duration_seconds   gender      age  content_usage_music  content_usage_video  \\\n",
      "count           165.000  165.000  165.000              165.000              165.000   \n",
      "mean           6620.976    1.491   35.679                4.576                4.606   \n",
      "std            4825.847    0.501    8.082                0.691                0.696   \n",
      "min            1070.000    1.000   21.000                2.000                2.000   \n",
      "25%            3246.000    1.000   29.000                4.000                4.000   \n",
      "50%            4910.000    1.000   36.000                5.000                5.000   \n",
      "75%            8538.000    2.000   41.000                5.000                5.000   \n",
      "max           24427.000    2.000   54.000                5.000                5.000   \n",
      "\n",
      "       content_usage_movies_tv  content_usage_podcast  user_history_app  app_usage_intent  \\\n",
      "count                  165.000                165.000           165.000           165.000   \n",
      "mean                     4.545                  2.903             1.436             1.376   \n",
      "std                      0.837                  1.407             1.586             0.684   \n",
      "min                      1.000                  1.000             0.000             1.000   \n",
      "25%                      4.000                  2.000             0.000             1.000   \n",
      "50%                      5.000                  3.000             1.000             1.000   \n",
      "75%                      5.000                  4.000             3.000             2.000   \n",
      "max                      5.000                  5.000             4.000             5.000   \n",
      "\n",
      "       recall_num_ads  profile_goods_1  profile_goods_2  profile_ads_1  profile_ads_2  education  \\\n",
      "count         165.000          165.000          165.000        165.000        165.000    165.000   \n",
      "mean            4.182            3.442            3.000          3.194          3.442      3.842   \n",
      "std             2.374            1.117            1.169          1.136          1.101      0.950   \n",
      "min             0.000            1.000            1.000          1.000          1.000      1.000   \n",
      "25%             3.000            3.000            2.000          2.000          3.000      3.000   \n",
      "50%             4.000            4.000            3.000          3.000          4.000      4.000   \n",
      "75%             5.000            4.000            4.000          4.000          4.000      5.000   \n",
      "max            15.000            5.000            5.000          5.000          5.000      6.000   \n",
      "\n",
      "       employment   income  \n",
      "count     165.000  165.000  \n",
      "mean        1.606    5.127  \n",
      "std         1.324    1.715  \n",
      "min         1.000    1.000  \n",
      "25%         1.000    4.000  \n",
      "50%         1.000    5.000  \n",
      "75%         1.000    6.000  \n",
      "max         6.000    8.000  \n"
     ]
    }
   ],
   "source": [
    "# check summary stats of train vs test\n",
    "pd.set_option('display.width', 100)\n",
    "pd.set_option('precision', 3)\n",
    "print(train_x.describe())"
   ]
  },
  {
   "cell_type": "code",
   "execution_count": 523,
   "metadata": {},
   "outputs": [
    {
     "name": "stdout",
     "output_type": "stream",
     "text": [
      "       duration_seconds  gender     age  content_usage_music  content_usage_video  \\\n",
      "count            41.000  41.000  41.000               41.000               41.000   \n",
      "mean           4503.390   1.463  36.268                4.488                4.537   \n",
      "std            3003.933   0.505   7.162                0.746                0.778   \n",
      "min            1191.000   1.000  24.000                2.000                2.000   \n",
      "25%            3061.000   1.000  29.000                4.000                4.000   \n",
      "50%            3548.000   1.000  35.000                5.000                5.000   \n",
      "75%            4539.000   2.000  42.000                5.000                5.000   \n",
      "max           15685.000   2.000  51.000                5.000                5.000   \n",
      "\n",
      "       content_usage_movies_tv  content_usage_podcast  user_history_app  app_usage_intent  \\\n",
      "count                   41.000                 41.000            41.000            41.000   \n",
      "mean                     4.561                  3.049             1.439             1.390   \n",
      "std                      0.896                  1.413             1.704             0.833   \n",
      "min                      1.000                  1.000             0.000             1.000   \n",
      "25%                      4.000                  2.000             0.000             1.000   \n",
      "50%                      5.000                  3.000             0.000             1.000   \n",
      "75%                      5.000                  4.000             3.000             2.000   \n",
      "max                      5.000                  5.000             4.000             5.000   \n",
      "\n",
      "       recall_num_ads  profile_goods_1  profile_goods_2  profile_ads_1  profile_ads_2  education  \\\n",
      "count          41.000           41.000           41.000         41.000         41.000     41.000   \n",
      "mean            3.878            3.659            2.829          3.195          3.439      3.683   \n",
      "std             1.706            1.217            1.340          1.100          1.246      0.850   \n",
      "min             1.000            1.000            1.000          1.000          1.000      2.000   \n",
      "25%             3.000            3.000            2.000          2.000          3.000      3.000   \n",
      "50%             4.000            4.000            3.000          3.000          4.000      4.000   \n",
      "75%             4.000            5.000            4.000          4.000          4.000      4.000   \n",
      "max            10.000            5.000            5.000          5.000          5.000      5.000   \n",
      "\n",
      "       employment  income  \n",
      "count      41.000  41.000  \n",
      "mean        1.146   4.854  \n",
      "std         0.527   1.892  \n",
      "min         1.000   1.000  \n",
      "25%         1.000   4.000  \n",
      "50%         1.000   4.000  \n",
      "75%         1.000   6.000  \n",
      "max         4.000   8.000  \n"
     ]
    }
   ],
   "source": [
    "print(test_x.describe())"
   ]
  },
  {
   "cell_type": "code",
   "execution_count": 524,
   "metadata": {},
   "outputs": [
    {
     "name": "stdout",
     "output_type": "stream",
     "text": [
      "Mean and median duration_seconds are 6621 and 3548\n",
      "Mean and median age are 36 and 35\n",
      "Mean and median content_usage_music are 5 and 5\n",
      "Mean and median content_usage_video are 5 and 5\n",
      "Mean and median content_usage_movies_tv are 5 and 5\n",
      "Mean and median content_usage_podcast are 3 and 3\n",
      "Mean and median user_history_app are 1 and 0\n"
     ]
    }
   ],
   "source": [
    "# train vs test sample data distribution\n",
    "\n",
    "# large right skew\n",
    "print('Mean and median duration_seconds are %0.f and %0.f'%(train_x.duration_seconds.mean(), test_x.duration_seconds.median()))\n",
    "\n",
    "# no skew\n",
    "print('Mean and median age are %0.f and %0.f'%(train_x.age.mean(), test_x.age.median()))\n",
    "\n",
    "# slight right skew\n",
    "print('Mean and median content_usage_music are %0.f and %0.f'%(train_x.content_usage_music.mean(), test_x.content_usage_music.median()))\n",
    "\n",
    "# no skew\n",
    "print('Mean and median content_usage_video are %0.f and %0.f'%(train_x.content_usage_video.mean(), test_x.content_usage_video.median()))\n",
    "\n",
    "# no skew\n",
    "print('Mean and median content_usage_movies_tv are %0.f and %0.f'%(train_x.content_usage_movies_tv.mean(), test_x.content_usage_movies_tv.median()))\n",
    "\n",
    "# no skew\n",
    "print('Mean and median content_usage_podcast are %0.f and %0.f'%(train_x.content_usage_podcast.mean(), test_x.content_usage_podcast.median()))\n",
    "\n",
    "# no skew\n",
    "print('Mean and median user_history_app are %0.f and %0.f'%(train_x.user_history_app.mean(), test_x.user_history_app.median()))\n"
   ]
  },
  {
   "cell_type": "code",
   "execution_count": 525,
   "metadata": {
    "scrolled": false
   },
   "outputs": [
    {
     "name": "stdout",
     "output_type": "stream",
     "text": [
      "duration_seconds           1.512\n",
      "gender                     0.037\n",
      "age                        0.220\n",
      "content_usage_music       -1.904\n",
      "content_usage_video       -1.926\n",
      "content_usage_movies_tv   -2.134\n",
      "content_usage_podcast      0.094\n",
      "user_history_app           0.573\n",
      "app_usage_intent           2.601\n",
      "recall_num_ads             1.632\n",
      "profile_goods_1           -0.518\n",
      "profile_goods_2           -0.162\n",
      "profile_ads_1             -0.187\n",
      "profile_ads_2             -0.560\n",
      "education                 -0.241\n",
      "employment                 2.178\n",
      "income                    -0.237\n",
      "dtype: float64\n"
     ]
    }
   ],
   "source": [
    "# positive (right), zero show less skew and negative (left) skew\n",
    "skew = train_x.skew()\n",
    "print(skew)"
   ]
  },
  {
   "cell_type": "code",
   "execution_count": 526,
   "metadata": {},
   "outputs": [
    {
     "data": {
      "image/png": "[encoded data removed]",
      "text/plain": [
       "<matplotlib.figure.Figure at 0x5916783cf8>"
      ]
     },
     "metadata": {},
     "output_type": "display_data"
    }
   ],
   "source": [
    "# density\n",
    "train_x.plot(kind='density', subplots=True, layout=(12,3), sharex=False, legend=True, fontsize=2)\n",
    "plt.show()"
   ]
  },
  {
   "cell_type": "code",
   "execution_count": 527,
   "metadata": {},
   "outputs": [
    {
     "data": {
      "image/png": "[encoded data removed]",
      "text/plain": [
       "<matplotlib.figure.Figure at 0x59177235c0>"
      ]
     },
     "metadata": {},
     "output_type": "display_data"
    }
   ],
   "source": [
    "sns.regplot(x = 'age', y = 'duration_seconds', data = test_x, color = 'blue');"
   ]
  },
  {
   "cell_type": "code",
   "execution_count": 528,
   "metadata": {},
   "outputs": [
    {
     "data": {
      "image/png": "[encoded data removed]",
      "text/plain": [
       "<matplotlib.figure.Figure at 0x59140a2048>"
      ]
     },
     "metadata": {},
     "output_type": "display_data"
    }
   ],
   "source": [
    "sns.regplot(x = 'content_usage_music', y = 'age', data = test_x, color = 'blue');"
   ]
  },
  {
   "cell_type": "code",
   "execution_count": 529,
   "metadata": {},
   "outputs": [
    {
     "data": {
      "image/png": "[encoded data removed]",
      "text/plain": [
       "<matplotlib.figure.Figure at 0x5915a42198>"
      ]
     },
     "metadata": {},
     "output_type": "display_data"
    }
   ],
   "source": [
    "sns.regplot(x = 'recall_num_ads', y = 'user_history_app', data = test_x, color = 'blue');"
   ]
  },
  {
   "cell_type": "code",
   "execution_count": 530,
   "metadata": {},
   "outputs": [
    {
     "data": {
      "text/plain": [
       "<module 'matplotlib.pyplot' from 'C:\\\\Users\\\\fibe6002\\\\AppData\\\\Local\\\\Continuum\\\\Anaconda1\\\\lib\\\\site-packages\\\\matplotlib\\\\pyplot.py'>"
      ]
     },
     "execution_count": 530,
     "metadata": {},
     "output_type": "execute_result"
    },
    {
     "data": {
      "image/png": "[encoded data removed]",
      "text/plain": [
       "<matplotlib.figure.Figure at 0x5916642240>"
      ]
     },
     "metadata": {},
     "output_type": "display_data"
    }
   ],
   "source": [
    "corr = train_x.select_dtypes(include = ['float64', 'int64']).iloc[:, :].corr()\n",
    "plt.figure(figsize=(12, 12))\n",
    "sns.heatmap(corr, vmax=1, square=True)\n",
    "sns.plt\n",
    "\n",
    "# some findings\n",
    "# positive correlations across content usage- music, video, movies and tv, podcasts\n",
    "# postive correlation between overall_exp_rating and app_usage_intent\n",
    "# negative correlation between recall_num_ads and overall_exp_rating\n",
    "# negative correlation between profile_ads_1 (ad avoiders) and profile_ads_2 (use ads to learn about new products)\n",
    "# negative correlation between ad_attributes_relevant and ad_attributes_intrustive"
   ]
  },
  {
   "cell_type": "code",
   "execution_count": 531,
   "metadata": {},
   "outputs": [
    {
     "data": {
      "text/plain": [
       "duration_seconds           0\n",
       "gender                     0\n",
       "age                        0\n",
       "content_usage_music        0\n",
       "content_usage_video        0\n",
       "content_usage_movies_tv    0\n",
       "content_usage_podcast      0\n",
       "user_history_app           0\n",
       "app_usage_intent           0\n",
       "recall_num_ads             0\n",
       "profile_goods_1            0\n",
       "profile_goods_2            0\n",
       "profile_ads_1              0\n",
       "profile_ads_2              0\n",
       "education                  0\n",
       "employment                 0\n",
       "income                     0\n",
       "dtype: int64"
      ]
     },
     "execution_count": 531,
     "metadata": {},
     "output_type": "execute_result"
    }
   ],
   "source": [
    "# how many NaN values there are in each column\n",
    "len(train_x) - train_x.count()"
   ]
  },
  {
   "cell_type": "code",
   "execution_count": 532,
   "metadata": {},
   "outputs": [
    {
     "data": {
      "text/plain": [
       "1    110\n",
       "0     55\n",
       "Name: skipped, dtype: int64"
      ]
     },
     "execution_count": 532,
     "metadata": {},
     "output_type": "execute_result"
    }
   ],
   "source": [
    "# class imbalance, 2x more respondents skipped\n",
    "train_y.skipped.value_counts()"
   ]
  },
  {
   "cell_type": "code",
   "execution_count": 533,
   "metadata": {},
   "outputs": [
    {
     "data": {
      "text/plain": [
       "3     52\n",
       "4     36\n",
       "6     20\n",
       "5     12\n",
       "2     12\n",
       "1      9\n",
       "7      8\n",
       "8      5\n",
       "0      4\n",
       "15     2\n",
       "9      2\n",
       "12     1\n",
       "11     1\n",
       "10     1\n",
       "Name: recall_num_ads, dtype: int64"
      ]
     },
     "execution_count": 533,
     "metadata": {},
     "output_type": "execute_result"
    }
   ],
   "source": [
    "train_x.recall_num_ads.value_counts()"
   ]
  },
  {
   "cell_type": "markdown",
   "metadata": {
    "collapsed": true
   },
   "source": [
    "## Feature Engineering\n",
    "\n",
    "The content usage features are positively correlated so I'm creating an overall content usage \"score\". I'm applying this first to train and then to test."
   ]
  },
  {
   "cell_type": "code",
   "execution_count": 534,
   "metadata": {},
   "outputs": [
    {
     "data": {
      "text/html": [
       "<div>\n",
       "<style>\n",
       "    .dataframe thead tr:only-child th {\n",
       "        text-align: right;\n",
       "    }\n",
       "\n",
       "    .dataframe thead th {\n",
       "        text-align: left;\n",
       "    }\n",
       "\n",
       "    .dataframe tbody tr th {\n",
       "        vertical-align: top;\n",
       "    }\n",
       "</style>\n",
       "<table border=\"1\" class=\"dataframe\">\n",
       "  <thead>\n",
       "    <tr style=\"text-align: right;\">\n",
       "      <th></th>\n",
       "      <th>duration_seconds</th>\n",
       "      <th>gender</th>\n",
       "      <th>age</th>\n",
       "      <th>content_usage_music</th>\n",
       "      <th>content_usage_video</th>\n",
       "      <th>content_usage_movies_tv</th>\n",
       "      <th>content_usage_podcast</th>\n",
       "      <th>user_history_app</th>\n",
       "      <th>app_usage_intent</th>\n",
       "      <th>recall_num_ads</th>\n",
       "      <th>profile_goods_1</th>\n",
       "      <th>profile_goods_2</th>\n",
       "      <th>profile_ads_1</th>\n",
       "      <th>profile_ads_2</th>\n",
       "      <th>education</th>\n",
       "      <th>employment</th>\n",
       "      <th>income</th>\n",
       "      <th>content_usage_score</th>\n",
       "    </tr>\n",
       "  </thead>\n",
       "  <tbody>\n",
       "    <tr>\n",
       "      <th>0</th>\n",
       "      <td>22937</td>\n",
       "      <td>2</td>\n",
       "      <td>47</td>\n",
       "      <td>4</td>\n",
       "      <td>4</td>\n",
       "      <td>4</td>\n",
       "      <td>1</td>\n",
       "      <td>0</td>\n",
       "      <td>2</td>\n",
       "      <td>3</td>\n",
       "      <td>3</td>\n",
       "      <td>4</td>\n",
       "      <td>3</td>\n",
       "      <td>4</td>\n",
       "      <td>4</td>\n",
       "      <td>1</td>\n",
       "      <td>8</td>\n",
       "      <td>13</td>\n",
       "    </tr>\n",
       "    <tr>\n",
       "      <th>1</th>\n",
       "      <td>1662</td>\n",
       "      <td>1</td>\n",
       "      <td>24</td>\n",
       "      <td>5</td>\n",
       "      <td>5</td>\n",
       "      <td>5</td>\n",
       "      <td>5</td>\n",
       "      <td>0</td>\n",
       "      <td>1</td>\n",
       "      <td>3</td>\n",
       "      <td>3</td>\n",
       "      <td>5</td>\n",
       "      <td>5</td>\n",
       "      <td>1</td>\n",
       "      <td>4</td>\n",
       "      <td>1</td>\n",
       "      <td>2</td>\n",
       "      <td>20</td>\n",
       "    </tr>\n",
       "    <tr>\n",
       "      <th>2</th>\n",
       "      <td>24427</td>\n",
       "      <td>2</td>\n",
       "      <td>24</td>\n",
       "      <td>5</td>\n",
       "      <td>3</td>\n",
       "      <td>4</td>\n",
       "      <td>1</td>\n",
       "      <td>0</td>\n",
       "      <td>1</td>\n",
       "      <td>3</td>\n",
       "      <td>5</td>\n",
       "      <td>2</td>\n",
       "      <td>4</td>\n",
       "      <td>2</td>\n",
       "      <td>5</td>\n",
       "      <td>1</td>\n",
       "      <td>2</td>\n",
       "      <td>13</td>\n",
       "    </tr>\n",
       "    <tr>\n",
       "      <th>3</th>\n",
       "      <td>7113</td>\n",
       "      <td>2</td>\n",
       "      <td>25</td>\n",
       "      <td>5</td>\n",
       "      <td>5</td>\n",
       "      <td>5</td>\n",
       "      <td>4</td>\n",
       "      <td>1</td>\n",
       "      <td>1</td>\n",
       "      <td>8</td>\n",
       "      <td>5</td>\n",
       "      <td>1</td>\n",
       "      <td>3</td>\n",
       "      <td>5</td>\n",
       "      <td>5</td>\n",
       "      <td>1</td>\n",
       "      <td>5</td>\n",
       "      <td>19</td>\n",
       "    </tr>\n",
       "    <tr>\n",
       "      <th>4</th>\n",
       "      <td>2203</td>\n",
       "      <td>2</td>\n",
       "      <td>46</td>\n",
       "      <td>4</td>\n",
       "      <td>4</td>\n",
       "      <td>3</td>\n",
       "      <td>1</td>\n",
       "      <td>0</td>\n",
       "      <td>1</td>\n",
       "      <td>4</td>\n",
       "      <td>2</td>\n",
       "      <td>2</td>\n",
       "      <td>5</td>\n",
       "      <td>4</td>\n",
       "      <td>5</td>\n",
       "      <td>1</td>\n",
       "      <td>5</td>\n",
       "      <td>12</td>\n",
       "    </tr>\n",
       "  </tbody>\n",
       "</table>\n",
       "</div>"
      ],
      "text/plain": [
       "   duration_seconds  gender  age  content_usage_music  content_usage_video  \\\n",
       "0             22937       2   47                    4                    4   \n",
       "1              1662       1   24                    5                    5   \n",
       "2             24427       2   24                    5                    3   \n",
       "3              7113       2   25                    5                    5   \n",
       "4              2203       2   46                    4                    4   \n",
       "\n",
       "   content_usage_movies_tv  content_usage_podcast  user_history_app  app_usage_intent  \\\n",
       "0                        4                      1                 0                 2   \n",
       "1                        5                      5                 0                 1   \n",
       "2                        4                      1                 0                 1   \n",
       "3                        5                      4                 1                 1   \n",
       "4                        3                      1                 0                 1   \n",
       "\n",
       "   recall_num_ads  profile_goods_1  profile_goods_2  profile_ads_1  profile_ads_2  education  \\\n",
       "0               3                3                4              3              4          4   \n",
       "1               3                3                5              5              1          4   \n",
       "2               3                5                2              4              2          5   \n",
       "3               8                5                1              3              5          5   \n",
       "4               4                2                2              5              4          5   \n",
       "\n",
       "   employment  income  content_usage_score  \n",
       "0           1       8                   13  \n",
       "1           1       2                   20  \n",
       "2           1       2                   13  \n",
       "3           1       5                   19  \n",
       "4           1       5                   12  "
      ]
     },
     "execution_count": 534,
     "metadata": {},
     "output_type": "execute_result"
    }
   ],
   "source": [
    "train_x['content_usage_score'] = train_x['content_usage_music'] + train_x['content_usage_video'] + train_x['content_usage_movies_tv'] + train_x[\n",
    "    'content_usage_podcast']\n",
    "train_x.head()"
   ]
  },
  {
   "cell_type": "code",
   "execution_count": 535,
   "metadata": {},
   "outputs": [
    {
     "data": {
      "text/html": [
       "<div>\n",
       "<style>\n",
       "    .dataframe thead tr:only-child th {\n",
       "        text-align: right;\n",
       "    }\n",
       "\n",
       "    .dataframe thead th {\n",
       "        text-align: left;\n",
       "    }\n",
       "\n",
       "    .dataframe tbody tr th {\n",
       "        vertical-align: top;\n",
       "    }\n",
       "</style>\n",
       "<table border=\"1\" class=\"dataframe\">\n",
       "  <thead>\n",
       "    <tr style=\"text-align: right;\">\n",
       "      <th></th>\n",
       "      <th>duration_seconds</th>\n",
       "      <th>gender</th>\n",
       "      <th>age</th>\n",
       "      <th>content_usage_music</th>\n",
       "      <th>content_usage_video</th>\n",
       "      <th>content_usage_movies_tv</th>\n",
       "      <th>content_usage_podcast</th>\n",
       "      <th>user_history_app</th>\n",
       "      <th>app_usage_intent</th>\n",
       "      <th>recall_num_ads</th>\n",
       "      <th>profile_goods_1</th>\n",
       "      <th>profile_goods_2</th>\n",
       "      <th>profile_ads_1</th>\n",
       "      <th>profile_ads_2</th>\n",
       "      <th>education</th>\n",
       "      <th>employment</th>\n",
       "      <th>income</th>\n",
       "      <th>content_usage_score</th>\n",
       "    </tr>\n",
       "  </thead>\n",
       "  <tbody>\n",
       "    <tr>\n",
       "      <th>0</th>\n",
       "      <td>3061</td>\n",
       "      <td>1</td>\n",
       "      <td>42</td>\n",
       "      <td>5</td>\n",
       "      <td>5</td>\n",
       "      <td>5</td>\n",
       "      <td>5</td>\n",
       "      <td>1</td>\n",
       "      <td>1</td>\n",
       "      <td>3</td>\n",
       "      <td>4</td>\n",
       "      <td>2</td>\n",
       "      <td>3</td>\n",
       "      <td>2</td>\n",
       "      <td>3</td>\n",
       "      <td>4</td>\n",
       "      <td>1</td>\n",
       "      <td>20</td>\n",
       "    </tr>\n",
       "    <tr>\n",
       "      <th>1</th>\n",
       "      <td>2124</td>\n",
       "      <td>2</td>\n",
       "      <td>35</td>\n",
       "      <td>4</td>\n",
       "      <td>5</td>\n",
       "      <td>5</td>\n",
       "      <td>2</td>\n",
       "      <td>0</td>\n",
       "      <td>4</td>\n",
       "      <td>1</td>\n",
       "      <td>2</td>\n",
       "      <td>2</td>\n",
       "      <td>4</td>\n",
       "      <td>2</td>\n",
       "      <td>5</td>\n",
       "      <td>1</td>\n",
       "      <td>6</td>\n",
       "      <td>16</td>\n",
       "    </tr>\n",
       "    <tr>\n",
       "      <th>2</th>\n",
       "      <td>2155</td>\n",
       "      <td>2</td>\n",
       "      <td>37</td>\n",
       "      <td>4</td>\n",
       "      <td>5</td>\n",
       "      <td>5</td>\n",
       "      <td>4</td>\n",
       "      <td>0</td>\n",
       "      <td>2</td>\n",
       "      <td>3</td>\n",
       "      <td>3</td>\n",
       "      <td>3</td>\n",
       "      <td>2</td>\n",
       "      <td>4</td>\n",
       "      <td>5</td>\n",
       "      <td>1</td>\n",
       "      <td>7</td>\n",
       "      <td>18</td>\n",
       "    </tr>\n",
       "    <tr>\n",
       "      <th>3</th>\n",
       "      <td>5126</td>\n",
       "      <td>2</td>\n",
       "      <td>27</td>\n",
       "      <td>5</td>\n",
       "      <td>5</td>\n",
       "      <td>5</td>\n",
       "      <td>4</td>\n",
       "      <td>0</td>\n",
       "      <td>1</td>\n",
       "      <td>4</td>\n",
       "      <td>4</td>\n",
       "      <td>5</td>\n",
       "      <td>2</td>\n",
       "      <td>5</td>\n",
       "      <td>3</td>\n",
       "      <td>1</td>\n",
       "      <td>8</td>\n",
       "      <td>19</td>\n",
       "    </tr>\n",
       "    <tr>\n",
       "      <th>4</th>\n",
       "      <td>3041</td>\n",
       "      <td>2</td>\n",
       "      <td>37</td>\n",
       "      <td>5</td>\n",
       "      <td>4</td>\n",
       "      <td>4</td>\n",
       "      <td>3</td>\n",
       "      <td>3</td>\n",
       "      <td>1</td>\n",
       "      <td>4</td>\n",
       "      <td>4</td>\n",
       "      <td>2</td>\n",
       "      <td>2</td>\n",
       "      <td>4</td>\n",
       "      <td>5</td>\n",
       "      <td>1</td>\n",
       "      <td>5</td>\n",
       "      <td>16</td>\n",
       "    </tr>\n",
       "  </tbody>\n",
       "</table>\n",
       "</div>"
      ],
      "text/plain": [
       "   duration_seconds  gender  age  content_usage_music  content_usage_video  \\\n",
       "0              3061       1   42                    5                    5   \n",
       "1              2124       2   35                    4                    5   \n",
       "2              2155       2   37                    4                    5   \n",
       "3              5126       2   27                    5                    5   \n",
       "4              3041       2   37                    5                    4   \n",
       "\n",
       "   content_usage_movies_tv  content_usage_podcast  user_history_app  app_usage_intent  \\\n",
       "0                        5                      5                 1                 1   \n",
       "1                        5                      2                 0                 4   \n",
       "2                        5                      4                 0                 2   \n",
       "3                        5                      4                 0                 1   \n",
       "4                        4                      3                 3                 1   \n",
       "\n",
       "   recall_num_ads  profile_goods_1  profile_goods_2  profile_ads_1  profile_ads_2  education  \\\n",
       "0               3                4                2              3              2          3   \n",
       "1               1                2                2              4              2          5   \n",
       "2               3                3                3              2              4          5   \n",
       "3               4                4                5              2              5          3   \n",
       "4               4                4                2              2              4          5   \n",
       "\n",
       "   employment  income  content_usage_score  \n",
       "0           4       1                   20  \n",
       "1           1       6                   16  \n",
       "2           1       7                   18  \n",
       "3           1       8                   19  \n",
       "4           1       5                   16  "
      ]
     },
     "execution_count": 535,
     "metadata": {},
     "output_type": "execute_result"
    }
   ],
   "source": [
    "test_x['content_usage_score'] = test_x['content_usage_music'] + test_x['content_usage_video'] + test_x['content_usage_movies_tv'] + test_x[\n",
    "    'content_usage_podcast']\n",
    "test_x.head()"
   ]
  },
  {
   "cell_type": "code",
   "execution_count": 536,
   "metadata": {
    "collapsed": true
   },
   "outputs": [],
   "source": [
    "# dropping content usages\n",
    "train_x.drop(['content_usage_music', 'content_usage_video', 'content_usage_movies_tv', 'content_usage_podcast'], axis=1, inplace=True)\n",
    "test_x.drop(['content_usage_music', 'content_usage_video', 'content_usage_movies_tv', 'content_usage_podcast'], axis=1, inplace=True)"
   ]
  },
  {
   "cell_type": "code",
   "execution_count": 537,
   "metadata": {},
   "outputs": [
    {
     "data": {
      "image/png": "[encoded data removed]",
      "text/plain": [
       "<matplotlib.figure.Figure at 0x5914db6ac8>"
      ]
     },
     "metadata": {},
     "output_type": "display_data"
    }
   ],
   "source": [
    "train_x.hist(figsize=(14, 26))\n",
    "plt.show() "
   ]
  },
  {
   "cell_type": "code",
   "execution_count": 538,
   "metadata": {},
   "outputs": [
    {
     "data": {
      "image/png": "[encoded data removed]",
      "text/plain": [
       "<matplotlib.figure.Figure at 0x5914acb160>"
      ]
     },
     "metadata": {},
     "output_type": "display_data"
    }
   ],
   "source": [
    "test_x.hist(figsize=(14, 26))\n",
    "plt.show() "
   ]
  },
  {
   "cell_type": "code",
   "execution_count": 539,
   "metadata": {},
   "outputs": [
    {
     "data": {
      "image/png": "[encoded data removed]",
      "text/plain": [
       "<matplotlib.figure.Figure at 0x5915142b00>"
      ]
     },
     "metadata": {},
     "output_type": "display_data"
    }
   ],
   "source": [
    "train_x.plot(kind='box', subplots=True, figsize=(20, 35), layout=(7,6), sharex=False, sharey=False) \n",
    "plt.show()"
   ]
  },
  {
   "cell_type": "code",
   "execution_count": 540,
   "metadata": {},
   "outputs": [
    {
     "data": {
      "text/plain": [
       "<seaborn.axisgrid.FacetGrid at 0x59153a9d68>"
      ]
     },
     "execution_count": 540,
     "metadata": {},
     "output_type": "execute_result"
    },
    {
     "data": {
      "image/png": "[encoded data removed]",
      "text/plain": [
       "<matplotlib.figure.Figure at 0x59148664a8>"
      ]
     },
     "metadata": {},
     "output_type": "display_data"
    }
   ],
   "source": [
    "#2x more skipped\n",
    "sns.factorplot('skipped', data=train_y, kind='count')"
   ]
  },
  {
   "cell_type": "code",
   "execution_count": 541,
   "metadata": {},
   "outputs": [
    {
     "data": {
      "text/plain": [
       "Index(['duration_seconds', 'gender', 'age', 'user_history_app', 'app_usage_intent',\n",
       "       'recall_num_ads', 'profile_goods_1', 'profile_goods_2', 'profile_ads_1', 'profile_ads_2',\n",
       "       'education', 'employment', 'income', 'content_usage_score'],\n",
       "      dtype='object')"
      ]
     },
     "execution_count": 541,
     "metadata": {},
     "output_type": "execute_result"
    }
   ],
   "source": [
    "train_x.columns"
   ]
  },
  {
   "cell_type": "code",
   "execution_count": 542,
   "metadata": {},
   "outputs": [
    {
     "data": {
      "text/plain": [
       "<matplotlib.figure.Figure at 0x5919c082b0>"
      ]
     },
     "metadata": {},
     "output_type": "display_data"
    },
    {
     "data": {
      "image/png": "[encoded data removed]",
      "text/plain": [
       "<matplotlib.figure.Figure at 0x5919c082e8>"
      ]
     },
     "metadata": {},
     "output_type": "display_data"
    }
   ],
   "source": [
    "plt.figure(1)\n",
    "f, axarr = plt.subplots(3, 2, figsize=(10, 9))\n",
    "skipped = train_y.skipped.values\n",
    "axarr[0, 0].scatter(train_x.age.values, skipped)\n",
    "axarr[0, 0].set_title('age')\n",
    "axarr[0, 1].scatter(train_x.profile_goods_1.values, skipped)\n",
    "axarr[0, 1].set_title('profile_goods_1')\n",
    "axarr[1, 0].scatter(train_x.recall_num_ads.values, skipped)\n",
    "axarr[1, 0].set_title('recall_num_ads')\n",
    "axarr[1, 1].scatter(train_x.gender.values, skipped)\n",
    "axarr[1, 1].set_title('gender')\n",
    "axarr[2, 0].scatter(train_x.duration_seconds, skipped)\n",
    "axarr[2, 0].set_title('duration_seconds')\n",
    "axarr[2, 1].scatter(train_x.content_usage_score, skipped)\n",
    "axarr[2, 1].set_title('content_usage_score')\n",
    "\n",
    "\n",
    "\n",
    "\n",
    "f.text(-0.01, 0.5, 'skipped', va='center', rotation='vertical', fontsize = 12)\n",
    "plt.tight_layout()\n",
    "plt.show()"
   ]
  },
  {
   "cell_type": "code",
   "execution_count": 543,
   "metadata": {},
   "outputs": [
    {
     "data": {
      "text/html": [
       "<div>\n",
       "<style>\n",
       "    .dataframe thead tr:only-child th {\n",
       "        text-align: right;\n",
       "    }\n",
       "\n",
       "    .dataframe thead th {\n",
       "        text-align: left;\n",
       "    }\n",
       "\n",
       "    .dataframe tbody tr th {\n",
       "        vertical-align: top;\n",
       "    }\n",
       "</style>\n",
       "<table border=\"1\" class=\"dataframe\">\n",
       "  <thead>\n",
       "    <tr style=\"text-align: right;\">\n",
       "      <th></th>\n",
       "      <th>duration_seconds</th>\n",
       "      <th>gender</th>\n",
       "      <th>age</th>\n",
       "      <th>user_history_app</th>\n",
       "      <th>app_usage_intent</th>\n",
       "      <th>recall_num_ads</th>\n",
       "      <th>profile_goods_1</th>\n",
       "      <th>profile_goods_2</th>\n",
       "      <th>profile_ads_1</th>\n",
       "      <th>profile_ads_2</th>\n",
       "      <th>education</th>\n",
       "      <th>employment</th>\n",
       "      <th>income</th>\n",
       "      <th>content_usage_score</th>\n",
       "    </tr>\n",
       "  </thead>\n",
       "  <tbody>\n",
       "    <tr>\n",
       "      <th>0</th>\n",
       "      <td>22937</td>\n",
       "      <td>2</td>\n",
       "      <td>47</td>\n",
       "      <td>0</td>\n",
       "      <td>2</td>\n",
       "      <td>3</td>\n",
       "      <td>3</td>\n",
       "      <td>4</td>\n",
       "      <td>3</td>\n",
       "      <td>4</td>\n",
       "      <td>4</td>\n",
       "      <td>1</td>\n",
       "      <td>8</td>\n",
       "      <td>13</td>\n",
       "    </tr>\n",
       "    <tr>\n",
       "      <th>1</th>\n",
       "      <td>1662</td>\n",
       "      <td>1</td>\n",
       "      <td>24</td>\n",
       "      <td>0</td>\n",
       "      <td>1</td>\n",
       "      <td>3</td>\n",
       "      <td>3</td>\n",
       "      <td>5</td>\n",
       "      <td>5</td>\n",
       "      <td>1</td>\n",
       "      <td>4</td>\n",
       "      <td>1</td>\n",
       "      <td>2</td>\n",
       "      <td>20</td>\n",
       "    </tr>\n",
       "    <tr>\n",
       "      <th>2</th>\n",
       "      <td>24427</td>\n",
       "      <td>2</td>\n",
       "      <td>24</td>\n",
       "      <td>0</td>\n",
       "      <td>1</td>\n",
       "      <td>3</td>\n",
       "      <td>5</td>\n",
       "      <td>2</td>\n",
       "      <td>4</td>\n",
       "      <td>2</td>\n",
       "      <td>5</td>\n",
       "      <td>1</td>\n",
       "      <td>2</td>\n",
       "      <td>13</td>\n",
       "    </tr>\n",
       "    <tr>\n",
       "      <th>3</th>\n",
       "      <td>7113</td>\n",
       "      <td>2</td>\n",
       "      <td>25</td>\n",
       "      <td>1</td>\n",
       "      <td>1</td>\n",
       "      <td>8</td>\n",
       "      <td>5</td>\n",
       "      <td>1</td>\n",
       "      <td>3</td>\n",
       "      <td>5</td>\n",
       "      <td>5</td>\n",
       "      <td>1</td>\n",
       "      <td>5</td>\n",
       "      <td>19</td>\n",
       "    </tr>\n",
       "    <tr>\n",
       "      <th>4</th>\n",
       "      <td>2203</td>\n",
       "      <td>2</td>\n",
       "      <td>46</td>\n",
       "      <td>0</td>\n",
       "      <td>1</td>\n",
       "      <td>4</td>\n",
       "      <td>2</td>\n",
       "      <td>2</td>\n",
       "      <td>5</td>\n",
       "      <td>4</td>\n",
       "      <td>5</td>\n",
       "      <td>1</td>\n",
       "      <td>5</td>\n",
       "      <td>12</td>\n",
       "    </tr>\n",
       "  </tbody>\n",
       "</table>\n",
       "</div>"
      ],
      "text/plain": [
       "   duration_seconds  gender  age  user_history_app  app_usage_intent  recall_num_ads  \\\n",
       "0             22937       2   47                 0                 2               3   \n",
       "1              1662       1   24                 0                 1               3   \n",
       "2             24427       2   24                 0                 1               3   \n",
       "3              7113       2   25                 1                 1               8   \n",
       "4              2203       2   46                 0                 1               4   \n",
       "\n",
       "   profile_goods_1  profile_goods_2  profile_ads_1  profile_ads_2  education  employment  income  \\\n",
       "0                3                4              3              4          4           1       8   \n",
       "1                3                5              5              1          4           1       2   \n",
       "2                5                2              4              2          5           1       2   \n",
       "3                5                1              3              5          5           1       5   \n",
       "4                2                2              5              4          5           1       5   \n",
       "\n",
       "   content_usage_score  \n",
       "0                   13  \n",
       "1                   20  \n",
       "2                   13  \n",
       "3                   19  \n",
       "4                   12  "
      ]
     },
     "execution_count": 543,
     "metadata": {},
     "output_type": "execute_result"
    }
   ],
   "source": [
    "train_x.head()"
   ]
  },
  {
   "cell_type": "markdown",
   "metadata": {},
   "source": [
    "## Algorithms Spot Check"
   ]
  },
  {
   "cell_type": "code",
   "execution_count": 544,
   "metadata": {},
   "outputs": [
    {
     "name": "stdout",
     "output_type": "stream",
     "text": [
      "LR: 0.749896 (0.091059)\n",
      "LASSO: 0.499251 (0.274517)\n",
      "Ridge: 0.687602 (0.103515)\n",
      "LDA: 0.686015 (0.102480)\n",
      "NB: 0.660717 (0.085270)\n",
      "CART: 0.537129 (0.145868)\n",
      "KNeighborsClassifier: 0.412090 (0.142994)\n",
      "AdaBoostClassifier: 0.677793 (0.101282)\n",
      "RandomForestClassifier: 0.589150 (0.167503)\n",
      "ExtraTreesClassifier: 0.619819 (0.104673)\n",
      "GradientBoostingClassifier: 0.702387 (0.114135)\n"
     ]
    }
   ],
   "source": [
    "from sklearn.linear_model import Lasso, Ridge  \n",
    "from sklearn.ensemble import RandomForestClassifier\n",
    "from sklearn.tree import DecisionTreeClassifier\n",
    "from sklearn.svm import SVC\n",
    "from sklearn.model_selection import KFold\n",
    "from sklearn.model_selection import GridSearchCV\n",
    "from sklearn.ensemble import RandomForestClassifier\n",
    "from sklearn.neighbors import KNeighborsClassifier\n",
    "from sklearn.ensemble import GradientBoostingClassifier\n",
    "from sklearn.ensemble import AdaBoostClassifier\n",
    "from sklearn.ensemble import ExtraTreesClassifier\n",
    "from sklearn import cross_validation\n",
    "\n",
    "# Test options and evaluation metric\n",
    "num_folds = 10\n",
    "num_instances = len(train_x) \n",
    "seed = 7\n",
    "scoring = 'roc_auc'\n",
    "\n",
    "# Spot-Check Algorithms\n",
    "models = []\n",
    "models.append(('LR', LogisticRegression()))\n",
    "models.append(('LASSO', Lasso())) \n",
    "models.append(('Ridge', Ridge())) \n",
    "models.append(('LDA', LinearDiscriminantAnalysis()))\n",
    "models.append(('NB', GaussianNB()))\n",
    "models.append(('CART', DecisionTreeClassifier())) \n",
    "models.append(('KNeighborsClassifier', KNeighborsClassifier())) \n",
    "models.append(('AdaBoostClassifier', AdaBoostClassifier()))\n",
    "models.append(('RandomForestClassifier', RandomForestClassifier()))\n",
    "models.append(('ExtraTreesClassifier', ExtraTreesClassifier()))\n",
    "models.append(('GradientBoostingClassifier', GradientBoostingClassifier()))\n",
    "\n",
    "# evaluate each model in turn\n",
    "results = []\n",
    "names = []\n",
    "for name, model in models:\n",
    "    kfold = cross_validation.KFold(n=num_instances, n_folds=num_folds, random_state=seed)\n",
    "    cv_results = cross_validation.cross_val_score(model, train_x, train_y.skipped, cv=kfold,\n",
    "        scoring=scoring)\n",
    "    results.append(cv_results)\n",
    "    names.append(name)\n",
    "    model.fit(train_x, train_y.skipped)\n",
    "    predicted = model.predict(test_x)\n",
    "    msg = \"%s: %f (%f)\" % (name, cv_results.mean(), cv_results.std())\n",
    "    print(msg)"
   ]
  },
  {
   "cell_type": "code",
   "execution_count": 545,
   "metadata": {},
   "outputs": [
    {
     "data": {
      "text/plain": [
       "array([ 0.25731297,  0.02448798,  0.12531871,  0.01692668,  0.05090706,\n",
       "        0.12677161,  0.04073901,  0.05414081,  0.03875124,  0.04201649,\n",
       "        0.03451992,  0.05413429,  0.06257517,  0.07139804])"
      ]
     },
     "execution_count": 545,
     "metadata": {},
     "output_type": "execute_result"
    }
   ],
   "source": [
    "model.feature_importances_\n",
    "#sort and remove features ranking closer to 0% "
   ]
  },
  {
   "cell_type": "code",
   "execution_count": 546,
   "metadata": {},
   "outputs": [
    {
     "data": {
      "text/plain": [
       "Index(['duration_seconds', 'gender', 'age', 'user_history_app', 'app_usage_intent',\n",
       "       'recall_num_ads', 'profile_goods_1', 'profile_goods_2', 'profile_ads_1', 'profile_ads_2',\n",
       "       'education', 'employment', 'income', 'content_usage_score'],\n",
       "      dtype='object')"
      ]
     },
     "execution_count": 546,
     "metadata": {},
     "output_type": "execute_result"
    }
   ],
   "source": [
    "train_x.columns"
   ]
  },
  {
   "cell_type": "code",
   "execution_count": 547,
   "metadata": {},
   "outputs": [
    {
     "data": {
      "image/png": "[encoded data removed]",
      "text/plain": [
       "<matplotlib.figure.Figure at 0x591a123c88>"
      ]
     },
     "metadata": {},
     "output_type": "display_data"
    }
   ],
   "source": [
    "#interesting feature importance chart, doesn't tell you which way the feature impacts the results, just highlights overall importance\n",
    "#i used this to inform which variables to drop in cell 413\n",
    "Importance = pd.DataFrame({'Importance' :model.feature_importances_*100}, index=train_x.columns)\n",
    "Importance.sort_values('Importance', axis=0, ascending=True).plot(kind='barh', color='b', )\n",
    "plt.xlabel('Variable Importance')\n",
    "plt.gca().legend_= None"
   ]
  },
  {
   "cell_type": "code",
   "execution_count": 548,
   "metadata": {
    "collapsed": true
   },
   "outputs": [],
   "source": [
    "# Compare Algorithms\n",
    "def plot_model_score_distribution(results, names):\n",
    "    ymin = .1\n",
    "    ymax = .95\n",
    "    fig = plt.figure(figsize=(25,10)) \n",
    "    fig.suptitle('Algorithm Comparison') \n",
    "    ax = fig.add_subplot(111) \n",
    "    plt.boxplot(results) \n",
    "    ax.set_ylim([ymin,ymax])\n",
    "    ax.set_xticklabels(names)\n",
    "    plt.show()"
   ]
  },
  {
   "cell_type": "code",
   "execution_count": 549,
   "metadata": {},
   "outputs": [
    {
     "data": {
      "image/png": "[encoded data removed]",
      "text/plain": [
       "<matplotlib.figure.Figure at 0x591a1cdd30>"
      ]
     },
     "metadata": {},
     "output_type": "display_data"
    }
   ],
   "source": [
    "plot_model_score_distribution(results, names)"
   ]
  },
  {
   "cell_type": "markdown",
   "metadata": {},
   "source": [
    "## Single Model"
   ]
  },
  {
   "cell_type": "code",
   "execution_count": 550,
   "metadata": {
    "collapsed": true
   },
   "outputs": [],
   "source": [
    "#need local cross val for tuning below\n",
    "def local_cv(model, params):\n",
    "    param_grid = params\n",
    "    kfold = KFold(n_splits=num_folds, random_state=seed)\n",
    "    grid = GridSearchCV(estimator=model, param_grid=param_grid, scoring=scoring, cv=kfold)\n",
    "    grid_result = grid.fit(train_x, train_y.skipped)\n",
    "    print(\"Best: %f using %s\" % (grid_result.best_score_, grid_result.best_params_))\n",
    "    for params, mean_score, scores in grid_result.grid_scores_:\n",
    "        print(\"%f (%f) with: %r\" % (scores.mean(), scores.std(), params))"
   ]
  },
  {
   "cell_type": "markdown",
   "metadata": {},
   "source": [
    "## Tune Ridge"
   ]
  },
  {
   "cell_type": "code",
   "execution_count": 551,
   "metadata": {},
   "outputs": [
    {
     "data": {
      "text/plain": [
       "dict_keys(['alpha', 'copy_X', 'fit_intercept', 'max_iter', 'normalize', 'random_state', 'solver', 'tol'])"
      ]
     },
     "execution_count": 551,
     "metadata": {},
     "output_type": "execute_result"
    }
   ],
   "source": [
    "Ridge().get_params().keys()"
   ]
  },
  {
   "cell_type": "code",
   "execution_count": 552,
   "metadata": {},
   "outputs": [
    {
     "name": "stdout",
     "output_type": "stream",
     "text": [
      "Best: 0.716599 using {'alpha': 75}\n",
      "0.686015 (0.102480) with: {'alpha': 0.05}\n",
      "0.686015 (0.102480) with: {'alpha': 0.1}\n",
      "0.686015 (0.102480) with: {'alpha': 0.3}\n",
      "0.687602 (0.103515) with: {'alpha': 1}\n",
      "0.687761 (0.102928) with: {'alpha': 3}\n",
      "0.691351 (0.106543) with: {'alpha': 5}\n",
      "0.696529 (0.104336) with: {'alpha': 10}\n",
      "0.693297 (0.104671) with: {'alpha': 15}\n",
      "0.702763 (0.100621) with: {'alpha': 30}\n",
      "0.708277 (0.099917) with: {'alpha': 50}\n",
      "0.715368 (0.093045) with: {'alpha': 75}\n"
     ]
    }
   ],
   "source": [
    "params = {\"alpha\":[0.05, 0.1, 0.3, 1, 3, 5, 10, 15, 30, 50, 75]}\n",
    "local_cv(Ridge(), params)"
   ]
  },
  {
   "cell_type": "markdown",
   "metadata": {},
   "source": [
    "## Tune GBM"
   ]
  },
  {
   "cell_type": "code",
   "execution_count": 553,
   "metadata": {},
   "outputs": [
    {
     "data": {
      "text/plain": [
       "dict_keys(['criterion', 'init', 'learning_rate', 'loss', 'max_depth', 'max_features', 'max_leaf_nodes', 'min_impurity_split', 'min_samples_leaf', 'min_samples_split', 'min_weight_fraction_leaf', 'n_estimators', 'presort', 'random_state', 'subsample', 'verbose', 'warm_start'])"
      ]
     },
     "execution_count": 553,
     "metadata": {},
     "output_type": "execute_result"
    }
   ],
   "source": [
    "GradientBoostingClassifier().get_params().keys()"
   ]
  },
  {
   "cell_type": "code",
   "execution_count": 554,
   "metadata": {},
   "outputs": [
    {
     "name": "stdout",
     "output_type": "stream",
     "text": [
      "Best: 0.679825 using {'max_depth': 2, 'n_estimators': 200}\n",
      "0.679303 (0.107362) with: {'max_depth': 2, 'n_estimators': 200}\n",
      "0.663512 (0.112881) with: {'max_depth': 2, 'n_estimators': 300}\n",
      "0.659226 (0.109567) with: {'max_depth': 2, 'n_estimators': 400}\n",
      "0.679054 (0.122066) with: {'max_depth': 3, 'n_estimators': 200}\n",
      "0.675878 (0.134793) with: {'max_depth': 3, 'n_estimators': 300}\n",
      "0.651928 (0.127126) with: {'max_depth': 3, 'n_estimators': 400}\n",
      "0.655382 (0.124581) with: {'max_depth': 4, 'n_estimators': 200}\n",
      "0.661975 (0.114857) with: {'max_depth': 4, 'n_estimators': 300}\n",
      "0.657408 (0.121349) with: {'max_depth': 4, 'n_estimators': 400}\n",
      "0.639362 (0.181979) with: {'max_depth': 10, 'n_estimators': 200}\n",
      "0.634621 (0.172476) with: {'max_depth': 10, 'n_estimators': 300}\n",
      "0.639596 (0.183112) with: {'max_depth': 10, 'n_estimators': 400}\n"
     ]
    }
   ],
   "source": [
    "params = {\"max_depth\":[2,3,4,10], \"n_estimators\":[200,300,400]} #params may not be optimal\n",
    "local_cv(GradientBoostingClassifier(), params)"
   ]
  },
  {
   "cell_type": "markdown",
   "metadata": {},
   "source": [
    "## Multiple Model Ensemble"
   ]
  },
  {
   "cell_type": "markdown",
   "metadata": {},
   "source": [
    "## Create Ensemble of three best models"
   ]
  },
  {
   "cell_type": "code",
   "execution_count": 555,
   "metadata": {},
   "outputs": [
    {
     "name": "stdout",
     "output_type": "stream",
     "text": [
      "[ 0.76470588  0.70588235  0.58823529  0.76470588  0.70588235  0.625       0.6875\n",
      "  0.75        0.6875      0.8125    ]\n",
      "0.709191176471\n"
     ]
    }
   ],
   "source": [
    "estimators = []\n",
    "\n",
    "model1 = LogisticRegression()\n",
    "estimators.append(('LR', model1))\n",
    "model2 = LinearDiscriminantAnalysis()\n",
    "estimators.append(('LDA', model2))\n",
    "model3 = GradientBoostingClassifier(n_estimators=300, max_depth=4)\n",
    "estimators.append(('GradientBoostingClassifier', model3))\n",
    "\n",
    "# create the ensemble model\n",
    "ensemble = VotingClassifier(estimators, voting='soft')\n",
    "results = cross_validation.cross_val_score(ensemble, train_x, train_y.skipped, cv=kfold) \n",
    "print(results)\n",
    "print(results.mean())\n",
    "\n",
    "ensemble.fit(train_x, train_y.skipped)\n",
    "ensemble_preds = ensemble.predict(test_x)\n",
    "\n",
    "#return to LR"
   ]
  },
  {
   "cell_type": "code",
   "execution_count": 556,
   "metadata": {},
   "outputs": [
    {
     "data": {
      "text/plain": [
       "array([1, 1, 0, 0, 1, 1, 1, 1, 1, 1, 1, 1, 1, 1, 1, 1, 1, 1, 0, 1, 1, 1, 0,\n",
       "       0, 1, 1, 1, 1, 1, 0, 0, 1, 1, 1, 0, 0, 1, 1, 1, 1, 1], dtype=int64)"
      ]
     },
     "execution_count": 556,
     "metadata": {},
     "output_type": "execute_result"
    }
   ],
   "source": [
    "ensemble_preds"
   ]
  },
  {
   "cell_type": "code",
   "execution_count": 557,
   "metadata": {
    "collapsed": true
   },
   "outputs": [],
   "source": [
    "submission = pd.DataFrame({\"altRID\":test_y.altRID, \"skipped\":ensemble_preds})\n",
    "submission.to_csv(\"ensemble_2nd_order_features.csv\", index = False)"
   ]
  },
  {
   "cell_type": "code",
   "execution_count": 558,
   "metadata": {},
   "outputs": [
    {
     "data": {
      "text/html": [
       "<div>\n",
       "<style>\n",
       "    .dataframe thead tr:only-child th {\n",
       "        text-align: right;\n",
       "    }\n",
       "\n",
       "    .dataframe thead th {\n",
       "        text-align: left;\n",
       "    }\n",
       "\n",
       "    .dataframe tbody tr th {\n",
       "        vertical-align: top;\n",
       "    }\n",
       "</style>\n",
       "<table border=\"1\" class=\"dataframe\">\n",
       "  <thead>\n",
       "    <tr style=\"text-align: right;\">\n",
       "      <th></th>\n",
       "      <th>altRID</th>\n",
       "      <th>skipped</th>\n",
       "    </tr>\n",
       "  </thead>\n",
       "  <tbody>\n",
       "    <tr>\n",
       "      <th>0</th>\n",
       "      <td>GENMDZ</td>\n",
       "      <td>1</td>\n",
       "    </tr>\n",
       "    <tr>\n",
       "      <th>1</th>\n",
       "      <td>NBBMVA</td>\n",
       "      <td>0</td>\n",
       "    </tr>\n",
       "    <tr>\n",
       "      <th>2</th>\n",
       "      <td>MSPEVA</td>\n",
       "      <td>0</td>\n",
       "    </tr>\n",
       "    <tr>\n",
       "      <th>3</th>\n",
       "      <td>CXAJUY</td>\n",
       "      <td>0</td>\n",
       "    </tr>\n",
       "    <tr>\n",
       "      <th>4</th>\n",
       "      <td>EOVWKS</td>\n",
       "      <td>1</td>\n",
       "    </tr>\n",
       "  </tbody>\n",
       "</table>\n",
       "</div>"
      ],
      "text/plain": [
       "   altRID  skipped\n",
       "0  GENMDZ        1\n",
       "1  NBBMVA        0\n",
       "2  MSPEVA        0\n",
       "3  CXAJUY        0\n",
       "4  EOVWKS        1"
      ]
     },
     "execution_count": 558,
     "metadata": {},
     "output_type": "execute_result"
    }
   ],
   "source": [
    "#could read submission file back into notebook\n",
    "submission = pd.read_excel(\"../belen/ensemble_2nd_order_features.xlsx\")\n",
    "submission.head()"
   ]
  },
  {
   "cell_type": "markdown",
   "metadata": {},
   "source": [
    "## Findings & Improvements"
   ]
  },
  {
   "cell_type": "markdown",
   "metadata": {},
   "source": [
    "1. The model ensemble correctly predicted whether a user skipped an ad 68% of the time! \n",
    "    \n",
    "2. Each respondent was served the same number of ads, but perceived ad load (which ranged from 0-10) ranked highest in feature importance.\n",
    "3. Model accuracy may be improved by removing additional nonpredictive & highly correlated features (e.g. content_usage_podcast, gender)\n",
    "4. Additional sample may help overcome case imbalance (2x more respondents skipped).\n"
   ]
  },
  {
   "cell_type": "code",
   "execution_count": null,
   "metadata": {
    "collapsed": true
   },
   "outputs": [],
   "source": []
  }
 ],
 "metadata": {
  "kernelspec": {
   "display_name": "Python 3",
   "language": "python",
   "name": "python3"
  },
  "language_info": {
   "codemirror_mode": {
    "name": "ipython",
    "version": 3
   },
   "file_extension": ".py",
   "mimetype": "text/x-python",
   "name": "python",
   "nbconvert_exporter": "python",
   "pygments_lexer": "ipython3",
   "version": "3.6.5"
  }
 },
 "nbformat": 4,
 "nbformat_minor": 2
}
